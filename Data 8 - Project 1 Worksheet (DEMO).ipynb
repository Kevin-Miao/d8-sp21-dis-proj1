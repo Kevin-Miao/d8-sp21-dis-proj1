{
 "cells": [
  {
   "cell_type": "code",
   "execution_count": 2,
   "id": "incoming-magic",
   "metadata": {},
   "outputs": [],
   "source": [
    "from datascience import *\n",
    "import numpy as np\n",
    "import matplotlib.pyplot as plt"
   ]
  },
  {
   "cell_type": "markdown",
   "id": "unable-genre",
   "metadata": {},
   "source": [
    "## Data 8 - Project 1 Worksheet Demo\n",
    "\n",
    "### Import Datasets"
   ]
  },
  {
   "cell_type": "code",
   "execution_count": 14,
   "id": "involved-genesis",
   "metadata": {},
   "outputs": [],
   "source": [
    "chocolates = Table.read_table('chocolate.csv')\n",
    "ca = Table.read_table('ca.csv').select('State','Sex', 'Year','Name', 'Occurrence').take(np.arange(4))"
   ]
  },
  {
   "cell_type": "markdown",
   "id": "noticed-income",
   "metadata": {},
   "source": [
    "### Question 1: Fun with Functions\n",
    "\n",
    "**a)** The following code has a number of errors in it. Which ones can you identify?\n",
    "\n",
    "```python\n",
    "def hypotenuse(a, b)\n",
    "```Returns the length of the hypotenuse of a right triangle, the squareroot of a squared + b squared```\n",
    "squares = make_array(a, b)*2\n",
    "sum = sum(squares)\n",
    "squareroot = np.sqrt(sum)\n",
    "print(squareroot)\n",
    "\tA = 5\n",
    "\tB = 5\n",
    "\tC = squareroot\n",
    "```"
   ]
  },
  {
   "cell_type": "code",
   "execution_count": null,
   "id": "interior-conspiracy",
   "metadata": {},
   "outputs": [],
   "source": [
    "def hypotenuse(a, b)\n",
    "```Returns the length of the hypotenuse of a right triangle, the squareroot of a squared + b squared```\n",
    "squares = make_array(a, b)*2\n",
    "sum = sum(squares)\n",
    "squareroot = np.sqrt(sum)\n",
    "print(squareroot)\n",
    "    A = 5\n",
    "    B = 5\n",
    "    C = squareroot"
   ]
  },
  {
   "cell_type": "markdown",
   "id": "exclusive-donor",
   "metadata": {},
   "source": [
    "**b)** Write a function that takes in one argument, a table tbl, another argument, a name of a column in that table col, and a boolean largest, and returns a table that contains the rows that have the ten largest or ten smallest values for the specified column, largest if the boolean largest is True, smallest if the boolean argument is False.\n",
    "\n",
    "```python\n",
    "\n",
    "\tdef top_ten(tbl, col, largest):\n",
    "\t\tsorted_tbl = _______________________________________\n",
    "\t\tten_rows = _________________________________________\n",
    "\t\treturn _____________________________________________\n",
    "```"
   ]
  },
  {
   "cell_type": "code",
   "execution_count": null,
   "id": "southern-algorithm",
   "metadata": {},
   "outputs": [],
   "source": [
    "def top_ten(tbl, col, largest):\n",
    "    sorted_tbl = ...\n",
    "    ten_rows = ...\n",
    "    return ..."
   ]
  },
  {
   "cell_type": "markdown",
   "id": "textile-judgment",
   "metadata": {},
   "source": [
    "**c)** Can a function take no arguments? When would you use a function with no arguments? How do you call a function without arguments? How does that compare to using a function as an argument?\n"
   ]
  },
  {
   "cell_type": "markdown",
   "id": "after-charge",
   "metadata": {},
   "source": [
    "<details>\n",
    "    <summary>Example</summary>\n",
    "    <code>def function_no_arguments():\n",
    "        return 'No Arguments'\n",
    "function_no_arguments()</code>\n",
    "</details>\n",
    "<br>"
   ]
  },
  {
   "cell_type": "code",
   "execution_count": null,
   "id": "subtle-scene",
   "metadata": {},
   "outputs": [],
   "source": [
    "..."
   ]
  },
  {
   "cell_type": "markdown",
   "id": "tired-breed",
   "metadata": {},
   "source": [
    "### Question 2\n",
    "\n",
    "Ian has opened up a chocolate store where he sells small boxes of chocolates in groups of different sizes and colors. His table chocolates is as follows: "
   ]
  },
  {
   "cell_type": "code",
   "execution_count": 10,
   "id": "revised-thailand",
   "metadata": {},
   "outputs": [
    {
     "data": {
      "text/html": [
       "<table border=\"1\" class=\"dataframe\">\n",
       "    <thead>\n",
       "        <tr>\n",
       "            <th>Color</th> <th>Shape</th> <th>Amount</th> <th>Price ($)</th>\n",
       "        </tr>\n",
       "    </thead>\n",
       "    <tbody>\n",
       "        <tr>\n",
       "            <td>Dark </td> <td>Round      </td> <td>4     </td> <td>1.3      </td>\n",
       "        </tr>\n",
       "        <tr>\n",
       "            <td>Milk </td> <td>Rectangular</td> <td>6     </td> <td>1.2      </td>\n",
       "        </tr>\n",
       "        <tr>\n",
       "            <td>White</td> <td>Rectangular</td> <td>12    </td> <td>2        </td>\n",
       "        </tr>\n",
       "        <tr>\n",
       "            <td>Dark </td> <td>Round      </td> <td>7     </td> <td>1.75     </td>\n",
       "        </tr>\n",
       "        <tr>\n",
       "            <td>Milk </td> <td>Rectangular</td> <td>9     </td> <td>1.4      </td>\n",
       "        </tr>\n",
       "        <tr>\n",
       "            <td>Milk </td> <td>Round      </td> <td>2     </td> <td>1        </td>\n",
       "        </tr>\n",
       "    </tbody>\n",
       "</table>"
      ],
      "text/plain": [
       "Color | Shape       | Amount | Price ($)\n",
       "Dark  | Round       | 4      | 1.3\n",
       "Milk  | Rectangular | 6      | 1.2\n",
       "White | Rectangular | 12     | 2\n",
       "Dark  | Round       | 7      | 1.75\n",
       "Milk  | Rectangular | 9      | 1.4\n",
       "Milk  | Round       | 2      | 1"
      ]
     },
     "execution_count": 10,
     "metadata": {},
     "output_type": "execute_result"
    }
   ],
   "source": [
    "chocolates"
   ]
  },
  {
   "cell_type": "markdown",
   "id": "determined-theory",
   "metadata": {},
   "source": [
    "Notice that the table contains multiple rows containing information about chocolates of the same color. We would like to figure out how many chocolates of each color he has for sale in total, and what the cost would be to purchase all chocolates of each unique color.\n",
    "\n",
    "**a)** Write a line of code that will return a new table which displays the total number of boxes\n",
    "for each color."
   ]
  },
  {
   "cell_type": "code",
   "execution_count": null,
   "id": "sharing-occasion",
   "metadata": {},
   "outputs": [],
   "source": []
  },
  {
   "cell_type": "markdown",
   "id": "governmental-trunk",
   "metadata": {},
   "source": [
    "**b)** Write a line of code which will return a new table with the total number of chocolates and\n",
    "the total cost for each unique color. For example, the row for “Dark” should have a total of 4+7=11 chocolates, and a total cost of \\\\$1.30 + \\\\$1.75 = 3.05.  \n"
   ]
  },
  {
   "cell_type": "code",
   "execution_count": null,
   "id": "preceding-philippines",
   "metadata": {},
   "outputs": [],
   "source": []
  },
  {
   "cell_type": "markdown",
   "id": "sophisticated-prophet",
   "metadata": {},
   "source": [
    "### Question 3\n",
    "\n",
    "Some rows from the table ca are shown below. The table contains information about the most common baby names in California and the number of those occurrences in a particular year, from the years 1910-2019. (This dataset was submitted by a fellow Data 8 student!)"
   ]
  },
  {
   "cell_type": "code",
   "execution_count": 15,
   "id": "alpine-fancy",
   "metadata": {},
   "outputs": [
    {
     "data": {
      "text/html": [
       "<table border=\"1\" class=\"dataframe\">\n",
       "    <thead>\n",
       "        <tr>\n",
       "            <th>State</th> <th>Sex</th> <th>Year</th> <th>Name</th> <th>Occurrence</th>\n",
       "        </tr>\n",
       "    </thead>\n",
       "    <tbody>\n",
       "        <tr>\n",
       "            <td>CA   </td> <td>F   </td> <td>1910</td> <td>Mary    </td> <td>295       </td>\n",
       "        </tr>\n",
       "        <tr>\n",
       "            <td>CA   </td> <td>F   </td> <td>1910</td> <td>Helen   </td> <td>239       </td>\n",
       "        </tr>\n",
       "        <tr>\n",
       "            <td>CA   </td> <td>F   </td> <td>1910</td> <td>Dorothy </td> <td>220       </td>\n",
       "        </tr>\n",
       "        <tr>\n",
       "            <td>CA   </td> <td>F   </td> <td>1910</td> <td>Margaret</td> <td>163       </td>\n",
       "        </tr>\n",
       "    </tbody>\n",
       "</table>"
      ],
      "text/plain": [
       "State | Sex  | Year | Name     | Occurrence\n",
       "CA    | F    | 1910 | Mary     | 295\n",
       "CA    | F    | 1910 | Helen    | 239\n",
       "CA    | F    | 1910 | Dorothy  | 220\n",
       "CA    | F    | 1910 | Margaret | 163"
      ]
     },
     "execution_count": 15,
     "metadata": {},
     "output_type": "execute_result"
    }
   ],
   "source": [
    "ca"
   ]
  },
  {
   "cell_type": "markdown",
   "id": "transparent-sharp",
   "metadata": {},
   "source": [
    "**a)** Write a line of code that will return the most popular name over all the years. \n",
    "Hint: Think about how to use the second argument in .group "
   ]
  },
  {
   "cell_type": "code",
   "execution_count": null,
   "id": "native-viewer",
   "metadata": {},
   "outputs": [],
   "source": []
  },
  {
   "cell_type": "markdown",
   "id": "positive-greek",
   "metadata": {},
   "source": [
    "**b)** Instead of the most popular name over all the years, write a line of code that will return the top 10 most popular names over all the years."
   ]
  },
  {
   "cell_type": "code",
   "execution_count": null,
   "id": "authorized-strain",
   "metadata": {},
   "outputs": [],
   "source": []
  },
  {
   "cell_type": "markdown",
   "id": "bibliographic-rolling",
   "metadata": {},
   "source": [
    "**c)** The top 10 names all appeared to be male names. Write a line of code that would return the most popular female names instead."
   ]
  },
  {
   "cell_type": "code",
   "execution_count": null,
   "id": "reliable-plant",
   "metadata": {},
   "outputs": [],
   "source": []
  },
  {
   "cell_type": "markdown",
   "id": "realistic-defeat",
   "metadata": {},
   "source": [
    "**d)** Write a line of code that will return the most popular female name in 1969"
   ]
  },
  {
   "cell_type": "code",
   "execution_count": null,
   "id": "oriental-uncertainty",
   "metadata": {},
   "outputs": [],
   "source": []
  },
  {
   "cell_type": "markdown",
   "id": "palestinian-condition",
   "metadata": {},
   "source": [
    "**e)** Write a function most_popular_female_name that takes in a year as an argument and returns the most popular female name in that year.\n",
    "\n",
    "```python\n",
    "def most_popular_female_name(year):\n",
    "\t\t_________________________________________________\n",
    "```\n"
   ]
  },
  {
   "cell_type": "code",
   "execution_count": null,
   "id": "material-vector",
   "metadata": {},
   "outputs": [],
   "source": [
    "def most_popular_female_name(year):\n",
    "    ..."
   ]
  },
  {
   "cell_type": "markdown",
   "id": "pointed-maintenance",
   "metadata": {},
   "source": [
    "**f)** The ca table is from 1920-2019. Define the years table with a column year and a row for each year from 1910-2019 (inclusive). Then create the table popular_female_names that has 2 columns, a year and a column for the female name that is most popular.\n",
    "\n",
    "```python\n",
    "\n",
    "years = ___________________________________________________________\n",
    "most_popular_female_names_array = _________________________________\n",
    "popular_female_names = ____________________________________________\n",
    "\n",
    "```"
   ]
  },
  {
   "cell_type": "code",
   "execution_count": null,
   "id": "polished-latter",
   "metadata": {},
   "outputs": [],
   "source": [
    "years = ...\n",
    "most_popular_female_names_array = ...\n",
    "popular_female_names = ..."
   ]
  },
  {
   "cell_type": "markdown",
   "id": "chemical-valentine",
   "metadata": {},
   "source": [
    "**g)** Write a line of code that will generate the following bar chart: \n",
    "\n",
    "![barchart](barh.png)"
   ]
  },
  {
   "cell_type": "code",
   "execution_count": null,
   "id": "juvenile-england",
   "metadata": {},
   "outputs": [],
   "source": []
  }
 ],
 "metadata": {
  "kernelspec": {
   "display_name": "Python 3",
   "language": "python",
   "name": "python3"
  },
  "language_info": {
   "codemirror_mode": {
    "name": "ipython",
    "version": 3
   },
   "file_extension": ".py",
   "mimetype": "text/x-python",
   "name": "python",
   "nbconvert_exporter": "python",
   "pygments_lexer": "ipython3",
   "version": "3.7.9"
  }
 },
 "nbformat": 4,
 "nbformat_minor": 5
}
